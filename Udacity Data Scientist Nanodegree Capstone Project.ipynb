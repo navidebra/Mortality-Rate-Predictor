{
 "cells": [
  {
   "cell_type": "markdown",
   "id": "a155d059",
   "metadata": {},
   "source": [
    "# <a class=\"anchor\" id=\"Business-Understanding\">Section I : Business Understanding</a>\n",
    "With the advancements in technology and the growing interest in data, there has been a lot of activities in this area. One of the biggest Health Industry challenges is lacking a central database about patients. Many patients especially ones with chronic diseases visit 14 specialists per year on average. This raises a few issues, mainly that each specialist is treating the patient for one organ and doesn't have a thorough knowledge of the patients previous visits to other doctors or prescribed medications and such. Collection and Preparation of data has been a major challenge in this industry which efforts has been done to overcome this. Organizations like MIT's PhysioNet are providing range of databases which benefits researchers abundantly. They provide a database of patient records called Medical Information Mart for Intensive Care (MIMIC). Using MIMIC-IV clinial data base demo version we'll try to tackle the following question:"
   ]
  },
  {
   "cell_type": "markdown",
   "id": "9770afd1",
   "metadata": {},
   "source": [
    "#### Question 1: Can patient healthcare records predict the likelihood of mortality in an emergency room visit?"
   ]
  },
  {
   "cell_type": "markdown",
   "id": "f25527aa",
   "metadata": {},
   "source": [
    "## Table of Contents\n",
    "\n",
    "I. [Business Understanding](#Business-Understanding)<br>\n",
    "II. [Data Understanding](#Data-Understanding)<br>\n",
    "III. [Data Preparation](#Data-Preparation)<br>\n",
    "IV. [Data Modeling](#Data-Modeling)<br>\n",
    "V. [Results Evaluation](#Results-Evaluation)<br>\n",
    "VI. [Conclusion and Discussion](#Conclusion-Discussion)"
   ]
  },
  {
   "cell_type": "markdown",
   "id": "2e71b36e",
   "metadata": {},
   "source": [
    "# <a class=\"anchor\" id=\"Data-Understanding\">Section II : Data Understanding</a>"
   ]
  },
  {
   "cell_type": "markdown",
   "id": "e4f117bb",
   "metadata": {},
   "source": [
    "All data has been collected from PhysioNet official website https://physionet.org/content/mimic-iv-demo/1.0/, using MIMIC-IV Clinical Database Demo Version 1.0.\n",
    "\n",
    "Database contains:\n",
    " * Patient Demographics\n",
    " * Patient Admissions\n",
    " * Patients ICU Stay Info"
   ]
  },
  {
   "cell_type": "markdown",
   "id": "356d6b04",
   "metadata": {},
   "source": [
    "### Gather Data\n",
    "Importing appropriate libraries and Loading required Files and fucntions"
   ]
  },
  {
   "cell_type": "code",
   "execution_count": 2,
   "id": "867f45a9",
   "metadata": {},
   "outputs": [],
   "source": [
    "# Importing Libraries\n",
    "\n",
    "import numpy as np\n",
    "import pandas as pd\n",
    "import matplotlib.pyplot as plt\n",
    "import sklearn.metrics as metrics\n",
    "from sklearn.metrics import roc_auc_score\n",
    "from sklearn.metrics import confusion_matrix\n",
    "from sklearn.metrics import classification_report\n",
    "from sklearn.model_selection import GridSearchCV, train_test_split\n",
    "from sklearn.linear_model import LogisticRegression\n",
    "from sklearn.model_selection import train_test_split\n",
    "\n",
    "%matplotlib inline\n",
    "\n",
    "# Loading the data\n",
    "admissions = pd.read_csv(\"./data/admissions.csv\")\n",
    "patients = pd.read_csv(\"./data/patients.csv\")\n",
    "icustays = pd.read_csv(\"./data/icustays.csv\")"
   ]
  },
  {
   "cell_type": "markdown",
   "id": "b38cca50",
   "metadata": {},
   "source": [
    "### Analyze Data"
   ]
  },
  {
   "cell_type": "code",
   "execution_count": 3,
   "id": "f05f5d7a",
   "metadata": {},
   "outputs": [
    {
     "data": {
      "text/plain": [
       "subject_id              0.00\n",
       "hadm_id                 0.00\n",
       "admittime               0.00\n",
       "dischtime               0.00\n",
       "deathtime               0.95\n",
       "admission_type          0.00\n",
       "admission_location      0.00\n",
       "discharge_location      0.15\n",
       "insurance               0.00\n",
       "language                0.00\n",
       "marital_status          0.04\n",
       "ethnicity               0.00\n",
       "edregtime               0.34\n",
       "edouttime               0.34\n",
       "hospital_expire_flag    0.00\n",
       "dtype: float64"
      ]
     },
     "execution_count": 3,
     "metadata": {},
     "output_type": "execute_result"
    }
   ],
   "source": [
    "# Checking Null values in each category\n",
    "\n",
    "round(admissions.isna().sum() / admissions.shape[0], 2)"
   ]
  },
  {
   "cell_type": "markdown",
   "id": "5ac48ee6",
   "metadata": {},
   "source": [
    "We'll take a closer look at some of features available in the admissions table."
   ]
  },
  {
   "cell_type": "code",
   "execution_count": 4,
   "id": "85db1a72",
   "metadata": {},
   "outputs": [
    {
     "data": {
      "text/plain": [
       "0     BLACK/AFRICAN AMERICAN\n",
       "1            HISPANIC/LATINO\n",
       "2                      WHITE\n",
       "3                    UNKNOWN\n",
       "9                      OTHER\n",
       "41          UNABLE TO OBTAIN\n",
       "Name: ethnicity, dtype: object"
      ]
     },
     "execution_count": 4,
     "metadata": {},
     "output_type": "execute_result"
    }
   ],
   "source": [
    "admissions['ethnicity'].drop_duplicates()"
   ]
  },
  {
   "cell_type": "code",
   "execution_count": 5,
   "id": "8890a4fd",
   "metadata": {},
   "outputs": [
    {
     "data": {
      "text/plain": [
       "<AxesSubplot:>"
      ]
     },
     "execution_count": 5,
     "metadata": {},
     "output_type": "execute_result"
    },
    {
     "data": {
      "image/png": "[encoded data removed]",
      "text/plain": [
       "<Figure size 432x288 with 1 Axes>"
      ]
     },
     "metadata": {
      "needs_background": "light"
     },
     "output_type": "display_data"
    }
   ],
   "source": [
    "admissions['insurance'].hist()"
   ]
  },
  {
   "cell_type": "code",
   "execution_count": 6,
   "id": "4f7a9f20",
   "metadata": {},
   "outputs": [
    {
     "data": {
      "text/plain": [
       "0                      TRANSFER FROM HOSPITAL\n",
       "12     TRANSFER FROM SKILLED NURSING FACILITY\n",
       "32         INTERNAL TRANSFER TO OR FROM PSYCH\n",
       "38                         PHYSICIAN REFERRAL\n",
       "51                             EMERGENCY ROOM\n",
       "64                                       PACU\n",
       "72                             PROCEDURE SITE\n",
       "94                      WALK-IN/SELF REFERRAL\n",
       "144                 INFORMATION NOT AVAILABLE\n",
       "158                           CLINIC REFERRAL\n",
       "Name: admission_location, dtype: object"
      ]
     },
     "execution_count": 6,
     "metadata": {},
     "output_type": "execute_result"
    }
   ],
   "source": [
    "admissions['admission_location'].drop_duplicates()"
   ]
  },
  {
   "cell_type": "code",
   "execution_count": 7,
   "id": "8df75274",
   "metadata": {},
   "outputs": [
    {
     "data": {
      "text/plain": [
       "<AxesSubplot:>"
      ]
     },
     "execution_count": 7,
     "metadata": {},
     "output_type": "execute_result"
    },
    {
     "data": {
      "image/png": "[encoded data removed]",
      "text/plain": [
       "<Figure size 432x288 with 1 Axes>"
      ]
     },
     "metadata": {
      "needs_background": "light"
     },
     "output_type": "display_data"
    }
   ],
   "source": [
    "admissions['marital_status'].hist()"
   ]
  },
  {
   "cell_type": "markdown",
   "id": "982878ee",
   "metadata": {},
   "source": [
    "# <a class=\"anchor\" id=\"Data-Preparation\">Section III : Data Preparation</a>"
   ]
  },
  {
   "cell_type": "markdown",
   "id": "0a974214",
   "metadata": {},
   "source": [
    "Data is collected and stored by PhysioNet which is already clean and ready for analysis. we'll do some simple changes like dropping unnecessary columns and then merging all data together."
   ]
  },
  {
   "cell_type": "code",
   "execution_count": 8,
   "id": "1d2fe911",
   "metadata": {},
   "outputs": [
    {
     "data": {
      "text/html": [
       "<div>\n",
       "<style scoped>\n",
       "    .dataframe tbody tr th:only-of-type {\n",
       "        vertical-align: middle;\n",
       "    }\n",
       "\n",
       "    .dataframe tbody tr th {\n",
       "        vertical-align: top;\n",
       "    }\n",
       "\n",
       "    .dataframe thead th {\n",
       "        text-align: right;\n",
       "    }\n",
       "</style>\n",
       "<table border=\"1\" class=\"dataframe\">\n",
       "  <thead>\n",
       "    <tr style=\"text-align: right;\">\n",
       "      <th></th>\n",
       "      <th>subject_id</th>\n",
       "      <th>hadm_id</th>\n",
       "      <th>admission_type</th>\n",
       "      <th>admission_location</th>\n",
       "      <th>insurance</th>\n",
       "      <th>marital_status</th>\n",
       "      <th>ethnicity</th>\n",
       "      <th>hospital_expire_flag</th>\n",
       "    </tr>\n",
       "  </thead>\n",
       "  <tbody>\n",
       "    <tr>\n",
       "      <th>0</th>\n",
       "      <td>10004235</td>\n",
       "      <td>24181354</td>\n",
       "      <td>URGENT</td>\n",
       "      <td>TRANSFER FROM HOSPITAL</td>\n",
       "      <td>Medicaid</td>\n",
       "      <td>SINGLE</td>\n",
       "      <td>BLACK/AFRICAN AMERICAN</td>\n",
       "      <td>0</td>\n",
       "    </tr>\n",
       "    <tr>\n",
       "      <th>1</th>\n",
       "      <td>10009628</td>\n",
       "      <td>25926192</td>\n",
       "      <td>URGENT</td>\n",
       "      <td>TRANSFER FROM HOSPITAL</td>\n",
       "      <td>Medicaid</td>\n",
       "      <td>MARRIED</td>\n",
       "      <td>HISPANIC/LATINO</td>\n",
       "      <td>0</td>\n",
       "    </tr>\n",
       "    <tr>\n",
       "      <th>2</th>\n",
       "      <td>10018081</td>\n",
       "      <td>23983182</td>\n",
       "      <td>URGENT</td>\n",
       "      <td>TRANSFER FROM HOSPITAL</td>\n",
       "      <td>Medicare</td>\n",
       "      <td>MARRIED</td>\n",
       "      <td>WHITE</td>\n",
       "      <td>0</td>\n",
       "    </tr>\n",
       "    <tr>\n",
       "      <th>3</th>\n",
       "      <td>10006053</td>\n",
       "      <td>22942076</td>\n",
       "      <td>URGENT</td>\n",
       "      <td>TRANSFER FROM HOSPITAL</td>\n",
       "      <td>Medicaid</td>\n",
       "      <td>NaN</td>\n",
       "      <td>UNKNOWN</td>\n",
       "      <td>1</td>\n",
       "    </tr>\n",
       "    <tr>\n",
       "      <th>4</th>\n",
       "      <td>10031404</td>\n",
       "      <td>21606243</td>\n",
       "      <td>URGENT</td>\n",
       "      <td>TRANSFER FROM HOSPITAL</td>\n",
       "      <td>Other</td>\n",
       "      <td>WIDOWED</td>\n",
       "      <td>WHITE</td>\n",
       "      <td>0</td>\n",
       "    </tr>\n",
       "  </tbody>\n",
       "</table>\n",
       "</div>"
      ],
      "text/plain": [
       "   subject_id   hadm_id admission_type      admission_location insurance  \\\n",
       "0    10004235  24181354         URGENT  TRANSFER FROM HOSPITAL  Medicaid   \n",
       "1    10009628  25926192         URGENT  TRANSFER FROM HOSPITAL  Medicaid   \n",
       "2    10018081  23983182         URGENT  TRANSFER FROM HOSPITAL  Medicare   \n",
       "3    10006053  22942076         URGENT  TRANSFER FROM HOSPITAL  Medicaid   \n",
       "4    10031404  21606243         URGENT  TRANSFER FROM HOSPITAL     Other   \n",
       "\n",
       "  marital_status               ethnicity  hospital_expire_flag  \n",
       "0         SINGLE  BLACK/AFRICAN AMERICAN                     0  \n",
       "1        MARRIED         HISPANIC/LATINO                     0  \n",
       "2        MARRIED                   WHITE                     0  \n",
       "3            NaN                 UNKNOWN                     1  \n",
       "4        WIDOWED                   WHITE                     0  "
      ]
     },
     "execution_count": 8,
     "metadata": {},
     "output_type": "execute_result"
    }
   ],
   "source": [
    "# Dropping unnecessary columns\n",
    "admissions.drop(['admittime', 'dischtime','deathtime', 'language', 'edregtime', 'edouttime', 'discharge_location'], axis=1, inplace=True)\n",
    "admissions.head()"
   ]
  },
  {
   "cell_type": "code",
   "execution_count": 9,
   "id": "438c7778",
   "metadata": {},
   "outputs": [
    {
     "data": {
      "text/html": [
       "<div>\n",
       "<style scoped>\n",
       "    .dataframe tbody tr th:only-of-type {\n",
       "        vertical-align: middle;\n",
       "    }\n",
       "\n",
       "    .dataframe tbody tr th {\n",
       "        vertical-align: top;\n",
       "    }\n",
       "\n",
       "    .dataframe thead th {\n",
       "        text-align: right;\n",
       "    }\n",
       "</style>\n",
       "<table border=\"1\" class=\"dataframe\">\n",
       "  <thead>\n",
       "    <tr style=\"text-align: right;\">\n",
       "      <th></th>\n",
       "      <th>subject_id</th>\n",
       "      <th>gender</th>\n",
       "      <th>anchor_age</th>\n",
       "    </tr>\n",
       "  </thead>\n",
       "  <tbody>\n",
       "    <tr>\n",
       "      <th>0</th>\n",
       "      <td>10014729</td>\n",
       "      <td>F</td>\n",
       "      <td>21</td>\n",
       "    </tr>\n",
       "    <tr>\n",
       "      <th>1</th>\n",
       "      <td>10008454</td>\n",
       "      <td>F</td>\n",
       "      <td>26</td>\n",
       "    </tr>\n",
       "    <tr>\n",
       "      <th>2</th>\n",
       "      <td>10010867</td>\n",
       "      <td>F</td>\n",
       "      <td>28</td>\n",
       "    </tr>\n",
       "    <tr>\n",
       "      <th>3</th>\n",
       "      <td>10023239</td>\n",
       "      <td>F</td>\n",
       "      <td>29</td>\n",
       "    </tr>\n",
       "    <tr>\n",
       "      <th>4</th>\n",
       "      <td>10032725</td>\n",
       "      <td>F</td>\n",
       "      <td>38</td>\n",
       "    </tr>\n",
       "  </tbody>\n",
       "</table>\n",
       "</div>"
      ],
      "text/plain": [
       "   subject_id gender  anchor_age\n",
       "0    10014729      F          21\n",
       "1    10008454      F          26\n",
       "2    10010867      F          28\n",
       "3    10023239      F          29\n",
       "4    10032725      F          38"
      ]
     },
     "execution_count": 9,
     "metadata": {},
     "output_type": "execute_result"
    }
   ],
   "source": [
    "patients.drop(['anchor_year_group', 'dod', 'anchor_year'], axis=1, inplace=True)\n",
    "patients.head()"
   ]
  },
  {
   "cell_type": "code",
   "execution_count": 10,
   "id": "db7acaa0",
   "metadata": {},
   "outputs": [
    {
     "data": {
      "text/html": [
       "<div>\n",
       "<style scoped>\n",
       "    .dataframe tbody tr th:only-of-type {\n",
       "        vertical-align: middle;\n",
       "    }\n",
       "\n",
       "    .dataframe tbody tr th {\n",
       "        vertical-align: top;\n",
       "    }\n",
       "\n",
       "    .dataframe thead th {\n",
       "        text-align: right;\n",
       "    }\n",
       "</style>\n",
       "<table border=\"1\" class=\"dataframe\">\n",
       "  <thead>\n",
       "    <tr style=\"text-align: right;\">\n",
       "      <th></th>\n",
       "      <th>subject_id</th>\n",
       "      <th>hadm_id</th>\n",
       "      <th>stay_id</th>\n",
       "      <th>los</th>\n",
       "    </tr>\n",
       "  </thead>\n",
       "  <tbody>\n",
       "    <tr>\n",
       "      <th>0</th>\n",
       "      <td>10018328</td>\n",
       "      <td>23786647</td>\n",
       "      <td>31269608</td>\n",
       "      <td>7.702512</td>\n",
       "    </tr>\n",
       "    <tr>\n",
       "      <th>1</th>\n",
       "      <td>10020187</td>\n",
       "      <td>26842957</td>\n",
       "      <td>32554129</td>\n",
       "      <td>0.872685</td>\n",
       "    </tr>\n",
       "    <tr>\n",
       "      <th>2</th>\n",
       "      <td>10010867</td>\n",
       "      <td>22429197</td>\n",
       "      <td>39880770</td>\n",
       "      <td>9.362049</td>\n",
       "    </tr>\n",
       "    <tr>\n",
       "      <th>3</th>\n",
       "      <td>10018501</td>\n",
       "      <td>28479513</td>\n",
       "      <td>35446858</td>\n",
       "      <td>1.941215</td>\n",
       "    </tr>\n",
       "    <tr>\n",
       "      <th>4</th>\n",
       "      <td>10019568</td>\n",
       "      <td>28710730</td>\n",
       "      <td>30876334</td>\n",
       "      <td>0.815417</td>\n",
       "    </tr>\n",
       "  </tbody>\n",
       "</table>\n",
       "</div>"
      ],
      "text/plain": [
       "   subject_id   hadm_id   stay_id       los\n",
       "0    10018328  23786647  31269608  7.702512\n",
       "1    10020187  26842957  32554129  0.872685\n",
       "2    10010867  22429197  39880770  9.362049\n",
       "3    10018501  28479513  35446858  1.941215\n",
       "4    10019568  28710730  30876334  0.815417"
      ]
     },
     "execution_count": 10,
     "metadata": {},
     "output_type": "execute_result"
    }
   ],
   "source": [
    "icustays.drop(['first_careunit', 'last_careunit', 'intime', 'outtime'], axis=1, inplace=True)\n",
    "icustays.head()"
   ]
  },
  {
   "cell_type": "code",
   "execution_count": 11,
   "id": "f13be8ec",
   "metadata": {},
   "outputs": [
    {
     "data": {
      "text/plain": [
       "100"
      ]
     },
     "execution_count": 11,
     "metadata": {},
     "output_type": "execute_result"
    }
   ],
   "source": [
    "patients.shape[0] # Total number of patient records available"
   ]
  },
  {
   "cell_type": "code",
   "execution_count": 12,
   "id": "85f58e0e",
   "metadata": {},
   "outputs": [
    {
     "data": {
      "text/plain": [
       "275"
      ]
     },
     "execution_count": 12,
     "metadata": {},
     "output_type": "execute_result"
    }
   ],
   "source": [
    "admissions.shape[0] # 275 times patients had been admitted"
   ]
  },
  {
   "cell_type": "code",
   "execution_count": 13,
   "id": "437d6548",
   "metadata": {},
   "outputs": [
    {
     "data": {
      "text/plain": [
       "140"
      ]
     },
     "execution_count": 13,
     "metadata": {},
     "output_type": "execute_result"
    }
   ],
   "source": [
    "icustays.shape[0] # 140 admissions in ICU"
   ]
  },
  {
   "cell_type": "markdown",
   "id": "a1824c89",
   "metadata": {},
   "source": [
    "Some patients have been transfered to ICU, some even more than once.\n",
    "all patients that died have been transferred to ICU"
   ]
  },
  {
   "cell_type": "code",
   "execution_count": 14,
   "id": "65370fa3",
   "metadata": {},
   "outputs": [
    {
     "data": {
      "text/html": [
       "<div>\n",
       "<style scoped>\n",
       "    .dataframe tbody tr th:only-of-type {\n",
       "        vertical-align: middle;\n",
       "    }\n",
       "\n",
       "    .dataframe tbody tr th {\n",
       "        vertical-align: top;\n",
       "    }\n",
       "\n",
       "    .dataframe thead th {\n",
       "        text-align: right;\n",
       "    }\n",
       "</style>\n",
       "<table border=\"1\" class=\"dataframe\">\n",
       "  <thead>\n",
       "    <tr style=\"text-align: right;\">\n",
       "      <th></th>\n",
       "      <th>subject_id</th>\n",
       "      <th>hadm_id</th>\n",
       "      <th>stay_id</th>\n",
       "      <th>los</th>\n",
       "    </tr>\n",
       "  </thead>\n",
       "  <tbody>\n",
       "    <tr>\n",
       "      <th>62</th>\n",
       "      <td>10001217</td>\n",
       "      <td>24597018</td>\n",
       "      <td>37067082</td>\n",
       "      <td>1.118032</td>\n",
       "    </tr>\n",
       "    <tr>\n",
       "      <th>85</th>\n",
       "      <td>10001217</td>\n",
       "      <td>27703517</td>\n",
       "      <td>34592300</td>\n",
       "      <td>0.948113</td>\n",
       "    </tr>\n",
       "    <tr>\n",
       "      <th>36</th>\n",
       "      <td>10002428</td>\n",
       "      <td>20321825</td>\n",
       "      <td>34807493</td>\n",
       "      <td>2.023843</td>\n",
       "    </tr>\n",
       "    <tr>\n",
       "      <th>39</th>\n",
       "      <td>10002428</td>\n",
       "      <td>28662225</td>\n",
       "      <td>33987268</td>\n",
       "      <td>4.981134</td>\n",
       "    </tr>\n",
       "    <tr>\n",
       "      <th>42</th>\n",
       "      <td>10002428</td>\n",
       "      <td>28662225</td>\n",
       "      <td>38875437</td>\n",
       "      <td>7.032894</td>\n",
       "    </tr>\n",
       "    <tr>\n",
       "      <th>61</th>\n",
       "      <td>10002428</td>\n",
       "      <td>23473524</td>\n",
       "      <td>35479615</td>\n",
       "      <td>10.977222</td>\n",
       "    </tr>\n",
       "    <tr>\n",
       "      <th>49</th>\n",
       "      <td>10002930</td>\n",
       "      <td>25696644</td>\n",
       "      <td>37049133</td>\n",
       "      <td>1.135231</td>\n",
       "    </tr>\n",
       "    <tr>\n",
       "      <th>130</th>\n",
       "      <td>10002930</td>\n",
       "      <td>25922998</td>\n",
       "      <td>35629889</td>\n",
       "      <td>0.678970</td>\n",
       "    </tr>\n",
       "  </tbody>\n",
       "</table>\n",
       "</div>"
      ],
      "text/plain": [
       "     subject_id   hadm_id   stay_id        los\n",
       "62     10001217  24597018  37067082   1.118032\n",
       "85     10001217  27703517  34592300   0.948113\n",
       "36     10002428  20321825  34807493   2.023843\n",
       "39     10002428  28662225  33987268   4.981134\n",
       "42     10002428  28662225  38875437   7.032894\n",
       "61     10002428  23473524  35479615  10.977222\n",
       "49     10002930  25696644  37049133   1.135231\n",
       "130    10002930  25922998  35629889   0.678970"
      ]
     },
     "execution_count": 14,
     "metadata": {},
     "output_type": "execute_result"
    }
   ],
   "source": [
    "# Checking multiple transfers to ICU\n",
    "\n",
    "icu = icustays.loc[icustays['hadm_id'].isin(admissions['hadm_id'].values)]\n",
    "duplicated = icu[icu['subject_id'].duplicated() == True].sort_values('subject_id').head()\n",
    "icu_patients = icu.loc[icu['subject_id'].isin(duplicated['subject_id'])].sort_values(by='subject_id')\n",
    "icu_patients"
   ]
  },
  {
   "cell_type": "code",
   "execution_count": 15,
   "id": "31f730cc",
   "metadata": {},
   "outputs": [
    {
     "data": {
      "text/plain": [
       "62    10001217\n",
       "36    10002428\n",
       "49    10002930\n",
       "Name: subject_id, dtype: int64"
      ]
     },
     "execution_count": 15,
     "metadata": {},
     "output_type": "execute_result"
    }
   ],
   "source": [
    "icu_patients['subject_id'].drop_duplicates()"
   ]
  },
  {
   "cell_type": "markdown",
   "id": "2d033758",
   "metadata": {},
   "source": [
    "only 3 patients have been trasnferred to ICU more than once, and only 1 patient (Subject_id: 10002428) had been transferred to ICU twice in the same admission."
   ]
  },
  {
   "cell_type": "code",
   "execution_count": 16,
   "id": "f76f20f1",
   "metadata": {},
   "outputs": [
    {
     "data": {
      "text/plain": [
       "128"
      ]
     },
     "execution_count": 16,
     "metadata": {},
     "output_type": "execute_result"
    }
   ],
   "source": [
    "icu_admission = icustays['hadm_id'].drop_duplicates()\n",
    "admissions.loc[admissions['hadm_id'].isin(icu_admission.values.tolist())].shape[0]"
   ]
  },
  {
   "cell_type": "markdown",
   "id": "f6ae47cc",
   "metadata": {},
   "source": [
    "out of 275 admissions, 128 were transfered to ICU at some point during their admission and have a Length of Stay (los) in the ICU ward which we'll add to our data.\n",
    "\n",
    "Next we merge all data together in a single dataframe."
   ]
  },
  {
   "cell_type": "code",
   "execution_count": 17,
   "id": "8453d342",
   "metadata": {},
   "outputs": [],
   "source": [
    "combined = admissions.merge(patients, on='subject_id')\n",
    "combined = combined.merge(icustays, on='hadm_id', how='left')"
   ]
  },
  {
   "cell_type": "code",
   "execution_count": 18,
   "id": "5da22eba",
   "metadata": {},
   "outputs": [
    {
     "data": {
      "text/html": [
       "<div>\n",
       "<style scoped>\n",
       "    .dataframe tbody tr th:only-of-type {\n",
       "        vertical-align: middle;\n",
       "    }\n",
       "\n",
       "    .dataframe tbody tr th {\n",
       "        vertical-align: top;\n",
       "    }\n",
       "\n",
       "    .dataframe thead th {\n",
       "        text-align: right;\n",
       "    }\n",
       "</style>\n",
       "<table border=\"1\" class=\"dataframe\">\n",
       "  <thead>\n",
       "    <tr style=\"text-align: right;\">\n",
       "      <th></th>\n",
       "      <th>subject_id_x</th>\n",
       "      <th>hadm_id</th>\n",
       "      <th>admission_type</th>\n",
       "      <th>admission_location</th>\n",
       "      <th>insurance</th>\n",
       "      <th>marital_status</th>\n",
       "      <th>ethnicity</th>\n",
       "      <th>hospital_expire_flag</th>\n",
       "      <th>gender</th>\n",
       "      <th>anchor_age</th>\n",
       "      <th>subject_id_y</th>\n",
       "      <th>stay_id</th>\n",
       "      <th>los</th>\n",
       "    </tr>\n",
       "  </thead>\n",
       "  <tbody>\n",
       "    <tr>\n",
       "      <th>0</th>\n",
       "      <td>10004235</td>\n",
       "      <td>24181354</td>\n",
       "      <td>URGENT</td>\n",
       "      <td>TRANSFER FROM HOSPITAL</td>\n",
       "      <td>Medicaid</td>\n",
       "      <td>SINGLE</td>\n",
       "      <td>BLACK/AFRICAN AMERICAN</td>\n",
       "      <td>0</td>\n",
       "      <td>M</td>\n",
       "      <td>47</td>\n",
       "      <td>10004235.0</td>\n",
       "      <td>34100191.0</td>\n",
       "      <td>4.952106</td>\n",
       "    </tr>\n",
       "    <tr>\n",
       "      <th>1</th>\n",
       "      <td>10004235</td>\n",
       "      <td>22187210</td>\n",
       "      <td>DIRECT EMER.</td>\n",
       "      <td>PHYSICIAN REFERRAL</td>\n",
       "      <td>Medicaid</td>\n",
       "      <td>SINGLE</td>\n",
       "      <td>BLACK/AFRICAN AMERICAN</td>\n",
       "      <td>0</td>\n",
       "      <td>M</td>\n",
       "      <td>47</td>\n",
       "      <td>NaN</td>\n",
       "      <td>NaN</td>\n",
       "      <td>0.000000</td>\n",
       "    </tr>\n",
       "    <tr>\n",
       "      <th>2</th>\n",
       "      <td>10004235</td>\n",
       "      <td>25970245</td>\n",
       "      <td>SURGICAL SAME DAY ADMISSION</td>\n",
       "      <td>PHYSICIAN REFERRAL</td>\n",
       "      <td>Medicaid</td>\n",
       "      <td>SINGLE</td>\n",
       "      <td>BLACK/AFRICAN AMERICAN</td>\n",
       "      <td>0</td>\n",
       "      <td>M</td>\n",
       "      <td>47</td>\n",
       "      <td>NaN</td>\n",
       "      <td>NaN</td>\n",
       "      <td>0.000000</td>\n",
       "    </tr>\n",
       "    <tr>\n",
       "      <th>3</th>\n",
       "      <td>10009628</td>\n",
       "      <td>25926192</td>\n",
       "      <td>URGENT</td>\n",
       "      <td>TRANSFER FROM HOSPITAL</td>\n",
       "      <td>Medicaid</td>\n",
       "      <td>MARRIED</td>\n",
       "      <td>HISPANIC/LATINO</td>\n",
       "      <td>0</td>\n",
       "      <td>M</td>\n",
       "      <td>58</td>\n",
       "      <td>10009628.0</td>\n",
       "      <td>35258379.0</td>\n",
       "      <td>2.280752</td>\n",
       "    </tr>\n",
       "    <tr>\n",
       "      <th>4</th>\n",
       "      <td>10018081</td>\n",
       "      <td>23983182</td>\n",
       "      <td>URGENT</td>\n",
       "      <td>TRANSFER FROM HOSPITAL</td>\n",
       "      <td>Medicare</td>\n",
       "      <td>MARRIED</td>\n",
       "      <td>WHITE</td>\n",
       "      <td>0</td>\n",
       "      <td>M</td>\n",
       "      <td>79</td>\n",
       "      <td>NaN</td>\n",
       "      <td>NaN</td>\n",
       "      <td>0.000000</td>\n",
       "    </tr>\n",
       "  </tbody>\n",
       "</table>\n",
       "</div>"
      ],
      "text/plain": [
       "   subject_id_x   hadm_id               admission_type  \\\n",
       "0      10004235  24181354                       URGENT   \n",
       "1      10004235  22187210                 DIRECT EMER.   \n",
       "2      10004235  25970245  SURGICAL SAME DAY ADMISSION   \n",
       "3      10009628  25926192                       URGENT   \n",
       "4      10018081  23983182                       URGENT   \n",
       "\n",
       "       admission_location insurance marital_status               ethnicity  \\\n",
       "0  TRANSFER FROM HOSPITAL  Medicaid         SINGLE  BLACK/AFRICAN AMERICAN   \n",
       "1      PHYSICIAN REFERRAL  Medicaid         SINGLE  BLACK/AFRICAN AMERICAN   \n",
       "2      PHYSICIAN REFERRAL  Medicaid         SINGLE  BLACK/AFRICAN AMERICAN   \n",
       "3  TRANSFER FROM HOSPITAL  Medicaid        MARRIED         HISPANIC/LATINO   \n",
       "4  TRANSFER FROM HOSPITAL  Medicare        MARRIED                   WHITE   \n",
       "\n",
       "   hospital_expire_flag gender  anchor_age  subject_id_y     stay_id       los  \n",
       "0                     0      M          47    10004235.0  34100191.0  4.952106  \n",
       "1                     0      M          47           NaN         NaN  0.000000  \n",
       "2                     0      M          47           NaN         NaN  0.000000  \n",
       "3                     0      M          58    10009628.0  35258379.0  2.280752  \n",
       "4                     0      M          79           NaN         NaN  0.000000  "
      ]
     },
     "execution_count": 18,
     "metadata": {},
     "output_type": "execute_result"
    }
   ],
   "source": [
    "combined.loc[combined[combined['los'].isna()].index, 'los'] = 0\n",
    "combined.head()"
   ]
  },
  {
   "cell_type": "code",
   "execution_count": 19,
   "id": "df220532",
   "metadata": {},
   "outputs": [
    {
     "data": {
      "text/plain": [
       "287"
      ]
     },
     "execution_count": 19,
     "metadata": {},
     "output_type": "execute_result"
    }
   ],
   "source": [
    "combined.shape[0] # Number of different admission available"
   ]
  },
  {
   "cell_type": "code",
   "execution_count": 20,
   "id": "eeb90360",
   "metadata": {},
   "outputs": [
    {
     "data": {
      "text/plain": [
       "Index(['subject_id_x', 'hadm_id', 'admission_type', 'admission_location',\n",
       "       'insurance', 'marital_status', 'ethnicity', 'hospital_expire_flag',\n",
       "       'gender', 'anchor_age', 'subject_id_y', 'stay_id', 'los'],\n",
       "      dtype='object')"
      ]
     },
     "execution_count": 20,
     "metadata": {},
     "output_type": "execute_result"
    }
   ],
   "source": [
    "combined.columns"
   ]
  },
  {
   "cell_type": "markdown",
   "id": "ca9920a8",
   "metadata": {},
   "source": [
    "### Analyzing Deaths"
   ]
  },
  {
   "cell_type": "code",
   "execution_count": 21,
   "id": "d74aa434",
   "metadata": {},
   "outputs": [
    {
     "data": {
      "text/plain": [
       "20"
      ]
     },
     "execution_count": 21,
     "metadata": {},
     "output_type": "execute_result"
    }
   ],
   "source": [
    "combined[combined['hospital_expire_flag'] == 1]['hadm_id'].count() # Total number of patient deaths"
   ]
  },
  {
   "cell_type": "markdown",
   "id": "dddefc94",
   "metadata": {},
   "source": [
    "Number of patients that have been to ICU during their admission and died."
   ]
  },
  {
   "cell_type": "code",
   "execution_count": 22,
   "id": "829ab106",
   "metadata": {},
   "outputs": [
    {
     "data": {
      "text/plain": [
       "20"
      ]
     },
     "execution_count": 22,
     "metadata": {},
     "output_type": "execute_result"
    }
   ],
   "source": [
    "# Total number of patients that have been in ICU and died\n",
    "\n",
    "icu_patients = combined[combined['los'] > 0] # patients that have been in ICU\n",
    "icu_patients[icu_patients['hospital_expire_flag'] == 1]['hadm_id'].count()"
   ]
  },
  {
   "cell_type": "markdown",
   "id": "26d52ec4",
   "metadata": {},
   "source": [
    "All patients that died have been admitted to ICU at some point during their admission at least once."
   ]
  },
  {
   "cell_type": "code",
   "execution_count": 23,
   "id": "d6321b8f",
   "metadata": {},
   "outputs": [],
   "source": [
    "dead = combined[combined['hospital_expire_flag'] == 1]"
   ]
  },
  {
   "cell_type": "markdown",
   "id": "77d1d1fb",
   "metadata": {},
   "source": [
    "In this part We'll take a glance at some of features available about the dead patients."
   ]
  },
  {
   "cell_type": "code",
   "execution_count": 24,
   "id": "3a3d2c05",
   "metadata": {},
   "outputs": [
    {
     "data": {
      "text/plain": [
       "count     20\n",
       "unique     2\n",
       "top        M\n",
       "freq      16\n",
       "Name: gender, dtype: object"
      ]
     },
     "execution_count": 24,
     "metadata": {},
     "output_type": "execute_result"
    }
   ],
   "source": [
    "dead['gender'].describe()"
   ]
  },
  {
   "cell_type": "markdown",
   "id": "20d2e288",
   "metadata": {},
   "source": [
    " out of 20 deaths, 16 were Male, and 4 Females"
   ]
  },
  {
   "cell_type": "code",
   "execution_count": 25,
   "id": "178a97fe",
   "metadata": {},
   "outputs": [
    {
     "data": {
      "text/plain": [
       "count          18\n",
       "unique          3\n",
       "top       MARRIED\n",
       "freq           11\n",
       "Name: marital_status, dtype: object"
      ]
     },
     "execution_count": 25,
     "metadata": {},
     "output_type": "execute_result"
    }
   ],
   "source": [
    "dead['marital_status'].describe()"
   ]
  },
  {
   "cell_type": "markdown",
   "id": "aa5073bf",
   "metadata": {},
   "source": [
    "out of 20 deaths, 11 were married"
   ]
  },
  {
   "cell_type": "code",
   "execution_count": 26,
   "id": "40288abf",
   "metadata": {},
   "outputs": [
    {
     "data": {
      "text/plain": [
       "count           20\n",
       "unique           3\n",
       "top       Medicare\n",
       "freq            10\n",
       "Name: insurance, dtype: object"
      ]
     },
     "execution_count": 26,
     "metadata": {},
     "output_type": "execute_result"
    }
   ],
   "source": [
    "dead['insurance'].describe()"
   ]
  },
  {
   "cell_type": "markdown",
   "id": "0213f0c0",
   "metadata": {},
   "source": [
    "out of 20 deaths, half of them had Medicare insurace."
   ]
  },
  {
   "cell_type": "code",
   "execution_count": 27,
   "id": "df89c7df",
   "metadata": {},
   "outputs": [
    {
     "data": {
      "text/plain": [
       "count        20\n",
       "unique        4\n",
       "top       WHITE\n",
       "freq         10\n",
       "Name: ethnicity, dtype: object"
      ]
     },
     "execution_count": 27,
     "metadata": {},
     "output_type": "execute_result"
    }
   ],
   "source": [
    "dead['ethnicity'].describe()"
   ]
  },
  {
   "cell_type": "markdown",
   "id": "1ff5948a",
   "metadata": {},
   "source": [
    "out of 20 deaths, half of them were White"
   ]
  },
  {
   "cell_type": "code",
   "execution_count": 28,
   "id": "4f59c3f1",
   "metadata": {},
   "outputs": [
    {
     "data": {
      "text/plain": [
       "count                 20\n",
       "unique                 4\n",
       "top       EMERGENCY ROOM\n",
       "freq                  10\n",
       "Name: admission_location, dtype: object"
      ]
     },
     "execution_count": 28,
     "metadata": {},
     "output_type": "execute_result"
    }
   ],
   "source": [
    "dead['admission_location'].describe()"
   ]
  },
  {
   "cell_type": "markdown",
   "id": "a65c047d",
   "metadata": {},
   "source": [
    "out of 20 deaths, half of them were admitted to the Emergency Room"
   ]
  },
  {
   "cell_type": "code",
   "execution_count": 29,
   "id": "d08fdc7e",
   "metadata": {},
   "outputs": [
    {
     "data": {
      "text/plain": [
       "count    20.000000\n",
       "mean      5.927487\n",
       "std       6.285489\n",
       "min       0.023727\n",
       "25%       0.826224\n",
       "50%       4.271302\n",
       "75%      10.436152\n",
       "max      20.528681\n",
       "Name: los, dtype: float64"
      ]
     },
     "execution_count": 29,
     "metadata": {},
     "output_type": "execute_result"
    }
   ],
   "source": [
    "dead['los'].describe()"
   ]
  },
  {
   "cell_type": "markdown",
   "id": "71cba4fb",
   "metadata": {},
   "source": [
    "out of 20 deaths, on average patients spend 6 Days in ICU"
   ]
  },
  {
   "cell_type": "code",
   "execution_count": 30,
   "id": "4120dd89",
   "metadata": {},
   "outputs": [],
   "source": [
    "def dummy_creator(df=combined):\n",
    "    '''\n",
    "    Creates and returns a dataframe with dummy variables\n",
    "    \n",
    "    INPUT:\n",
    "    df - (pandas dataframe) merged combined dataframe as defined at above\n",
    "    \n",
    "    OUTPUT:\n",
    "    df_X - (pandas dataframe) processed dataframe with dummy variables\n",
    "    \n",
    "    '''\n",
    "    # Selected Features\n",
    "    columns = ['admission_type', 'admission_location', 'insurance', 'marital_status', 'ethnicity', 'gender']\n",
    "    \n",
    "    df = df[columns]\n",
    "    df_X = pd.DataFrame()\n",
    "    \n",
    "    for col in columns:\n",
    "        df_temp = pd.DataFrame()\n",
    "        df_temp = pd.get_dummies(df[col], prefix=col[:3])\n",
    "        df_X = pd.concat([df_X, df_temp], axis=1)\n",
    "    return df_X"
   ]
  },
  {
   "cell_type": "code",
   "execution_count": 31,
   "id": "69a76cf7",
   "metadata": {},
   "outputs": [],
   "source": [
    "def column_appender():\n",
    "    '''\n",
    "    Appends remaining features to the dataframe with dummy variables and returns dataframe with all features\n",
    "    \n",
    "    INPUT:\n",
    "    df - (pandas dataframe) merged combined dataframe as defined at above\n",
    "    \n",
    "    OUTPUT:\n",
    "    df_final - (pandas dataframe) appended dataframe with dummy variables\n",
    "    \n",
    "    '''\n",
    "    \n",
    "    cols = ['anchor_age', 'los']\n",
    "    df_final = pd.DataFrame()\n",
    "    for col in cols:\n",
    "        df_final = pd.concat([df_final, combined[col]], axis=1)\n",
    "    df_final = pd.concat([dummy_creator(), df_final] , axis=1)\n",
    "    \n",
    "    return df_final"
   ]
  },
  {
   "cell_type": "code",
   "execution_count": 32,
   "id": "a11e3230",
   "metadata": {},
   "outputs": [
    {
     "data": {
      "text/html": [
       "<div>\n",
       "<style scoped>\n",
       "    .dataframe tbody tr th:only-of-type {\n",
       "        vertical-align: middle;\n",
       "    }\n",
       "\n",
       "    .dataframe tbody tr th {\n",
       "        vertical-align: top;\n",
       "    }\n",
       "\n",
       "    .dataframe thead th {\n",
       "        text-align: right;\n",
       "    }\n",
       "</style>\n",
       "<table border=\"1\" class=\"dataframe\">\n",
       "  <thead>\n",
       "    <tr style=\"text-align: right;\">\n",
       "      <th></th>\n",
       "      <th>adm_AMBULATORY OBSERVATION</th>\n",
       "      <th>adm_DIRECT EMER.</th>\n",
       "      <th>adm_DIRECT OBSERVATION</th>\n",
       "      <th>adm_ELECTIVE</th>\n",
       "      <th>adm_EU OBSERVATION</th>\n",
       "      <th>adm_EW EMER.</th>\n",
       "      <th>adm_OBSERVATION ADMIT</th>\n",
       "      <th>adm_SURGICAL SAME DAY ADMISSION</th>\n",
       "      <th>adm_URGENT</th>\n",
       "      <th>adm_CLINIC REFERRAL</th>\n",
       "      <th>...</th>\n",
       "      <th>eth_BLACK/AFRICAN AMERICAN</th>\n",
       "      <th>eth_HISPANIC/LATINO</th>\n",
       "      <th>eth_OTHER</th>\n",
       "      <th>eth_UNABLE TO OBTAIN</th>\n",
       "      <th>eth_UNKNOWN</th>\n",
       "      <th>eth_WHITE</th>\n",
       "      <th>gen_F</th>\n",
       "      <th>gen_M</th>\n",
       "      <th>anchor_age</th>\n",
       "      <th>los</th>\n",
       "    </tr>\n",
       "  </thead>\n",
       "  <tbody>\n",
       "    <tr>\n",
       "      <th>0</th>\n",
       "      <td>0</td>\n",
       "      <td>0</td>\n",
       "      <td>0</td>\n",
       "      <td>0</td>\n",
       "      <td>0</td>\n",
       "      <td>0</td>\n",
       "      <td>0</td>\n",
       "      <td>0</td>\n",
       "      <td>1</td>\n",
       "      <td>0</td>\n",
       "      <td>...</td>\n",
       "      <td>1</td>\n",
       "      <td>0</td>\n",
       "      <td>0</td>\n",
       "      <td>0</td>\n",
       "      <td>0</td>\n",
       "      <td>0</td>\n",
       "      <td>0</td>\n",
       "      <td>1</td>\n",
       "      <td>47</td>\n",
       "      <td>4.952106</td>\n",
       "    </tr>\n",
       "    <tr>\n",
       "      <th>1</th>\n",
       "      <td>0</td>\n",
       "      <td>1</td>\n",
       "      <td>0</td>\n",
       "      <td>0</td>\n",
       "      <td>0</td>\n",
       "      <td>0</td>\n",
       "      <td>0</td>\n",
       "      <td>0</td>\n",
       "      <td>0</td>\n",
       "      <td>0</td>\n",
       "      <td>...</td>\n",
       "      <td>1</td>\n",
       "      <td>0</td>\n",
       "      <td>0</td>\n",
       "      <td>0</td>\n",
       "      <td>0</td>\n",
       "      <td>0</td>\n",
       "      <td>0</td>\n",
       "      <td>1</td>\n",
       "      <td>47</td>\n",
       "      <td>0.000000</td>\n",
       "    </tr>\n",
       "    <tr>\n",
       "      <th>2</th>\n",
       "      <td>0</td>\n",
       "      <td>0</td>\n",
       "      <td>0</td>\n",
       "      <td>0</td>\n",
       "      <td>0</td>\n",
       "      <td>0</td>\n",
       "      <td>0</td>\n",
       "      <td>1</td>\n",
       "      <td>0</td>\n",
       "      <td>0</td>\n",
       "      <td>...</td>\n",
       "      <td>1</td>\n",
       "      <td>0</td>\n",
       "      <td>0</td>\n",
       "      <td>0</td>\n",
       "      <td>0</td>\n",
       "      <td>0</td>\n",
       "      <td>0</td>\n",
       "      <td>1</td>\n",
       "      <td>47</td>\n",
       "      <td>0.000000</td>\n",
       "    </tr>\n",
       "    <tr>\n",
       "      <th>3</th>\n",
       "      <td>0</td>\n",
       "      <td>0</td>\n",
       "      <td>0</td>\n",
       "      <td>0</td>\n",
       "      <td>0</td>\n",
       "      <td>0</td>\n",
       "      <td>0</td>\n",
       "      <td>0</td>\n",
       "      <td>1</td>\n",
       "      <td>0</td>\n",
       "      <td>...</td>\n",
       "      <td>0</td>\n",
       "      <td>1</td>\n",
       "      <td>0</td>\n",
       "      <td>0</td>\n",
       "      <td>0</td>\n",
       "      <td>0</td>\n",
       "      <td>0</td>\n",
       "      <td>1</td>\n",
       "      <td>58</td>\n",
       "      <td>2.280752</td>\n",
       "    </tr>\n",
       "    <tr>\n",
       "      <th>4</th>\n",
       "      <td>0</td>\n",
       "      <td>0</td>\n",
       "      <td>0</td>\n",
       "      <td>0</td>\n",
       "      <td>0</td>\n",
       "      <td>0</td>\n",
       "      <td>0</td>\n",
       "      <td>0</td>\n",
       "      <td>1</td>\n",
       "      <td>0</td>\n",
       "      <td>...</td>\n",
       "      <td>0</td>\n",
       "      <td>0</td>\n",
       "      <td>0</td>\n",
       "      <td>0</td>\n",
       "      <td>0</td>\n",
       "      <td>1</td>\n",
       "      <td>0</td>\n",
       "      <td>1</td>\n",
       "      <td>79</td>\n",
       "      <td>0.000000</td>\n",
       "    </tr>\n",
       "  </tbody>\n",
       "</table>\n",
       "<p>5 rows × 36 columns</p>\n",
       "</div>"
      ],
      "text/plain": [
       "   adm_AMBULATORY OBSERVATION  adm_DIRECT EMER.  adm_DIRECT OBSERVATION  \\\n",
       "0                           0                 0                       0   \n",
       "1                           0                 1                       0   \n",
       "2                           0                 0                       0   \n",
       "3                           0                 0                       0   \n",
       "4                           0                 0                       0   \n",
       "\n",
       "   adm_ELECTIVE  adm_EU OBSERVATION  adm_EW EMER.  adm_OBSERVATION ADMIT  \\\n",
       "0             0                   0             0                      0   \n",
       "1             0                   0             0                      0   \n",
       "2             0                   0             0                      0   \n",
       "3             0                   0             0                      0   \n",
       "4             0                   0             0                      0   \n",
       "\n",
       "   adm_SURGICAL SAME DAY ADMISSION  adm_URGENT  adm_CLINIC REFERRAL  ...  \\\n",
       "0                                0           1                    0  ...   \n",
       "1                                0           0                    0  ...   \n",
       "2                                1           0                    0  ...   \n",
       "3                                0           1                    0  ...   \n",
       "4                                0           1                    0  ...   \n",
       "\n",
       "   eth_BLACK/AFRICAN AMERICAN  eth_HISPANIC/LATINO  eth_OTHER  \\\n",
       "0                           1                    0          0   \n",
       "1                           1                    0          0   \n",
       "2                           1                    0          0   \n",
       "3                           0                    1          0   \n",
       "4                           0                    0          0   \n",
       "\n",
       "   eth_UNABLE TO OBTAIN  eth_UNKNOWN  eth_WHITE  gen_F  gen_M  anchor_age  \\\n",
       "0                     0            0          0      0      1          47   \n",
       "1                     0            0          0      0      1          47   \n",
       "2                     0            0          0      0      1          47   \n",
       "3                     0            0          0      0      1          58   \n",
       "4                     0            0          1      0      1          79   \n",
       "\n",
       "        los  \n",
       "0  4.952106  \n",
       "1  0.000000  \n",
       "2  0.000000  \n",
       "3  2.280752  \n",
       "4  0.000000  \n",
       "\n",
       "[5 rows x 36 columns]"
      ]
     },
     "execution_count": 32,
     "metadata": {},
     "output_type": "execute_result"
    }
   ],
   "source": [
    "# Initializing the the explanatory matrix\n",
    "X = column_appender()\n",
    "X.head()"
   ]
  },
  {
   "cell_type": "code",
   "execution_count": 33,
   "id": "f2a73a44",
   "metadata": {},
   "outputs": [
    {
     "data": {
      "text/plain": [
       "count    287.000000\n",
       "mean       0.069686\n",
       "std        0.255063\n",
       "min        0.000000\n",
       "25%        0.000000\n",
       "50%        0.000000\n",
       "75%        0.000000\n",
       "max        1.000000\n",
       "Name: hospital_expire_flag, dtype: float64"
      ]
     },
     "execution_count": 33,
     "metadata": {},
     "output_type": "execute_result"
    }
   ],
   "source": [
    "# Initializing the response vector\n",
    "\n",
    "y = combined['hospital_expire_flag']\n",
    "y.describe()"
   ]
  },
  {
   "cell_type": "markdown",
   "id": "d63371cb",
   "metadata": {},
   "source": [
    "Based on 287 admission records of 100 patients with 20 deaths, we'll start building our model"
   ]
  },
  {
   "cell_type": "markdown",
   "id": "8c05a509",
   "metadata": {},
   "source": [
    "# <a class=\"anchor\" id=\"Data-Modeling\">Section IV : Data Modeling</a>"
   ]
  },
  {
   "cell_type": "markdown",
   "id": "9d81ae8c",
   "metadata": {},
   "source": [
    "In this section we train a logistic regression using standard ML techniques like splitting data into train and test datasets."
   ]
  },
  {
   "cell_type": "code",
   "execution_count": 43,
   "id": "bd60356f",
   "metadata": {},
   "outputs": [],
   "source": [
    "# Splitting data into train and test dataset\n",
    "\n",
    "X_train, X_test, y_train, y_test = train_test_split(X, y, train_size=.7)"
   ]
  },
  {
   "cell_type": "code",
   "execution_count": 44,
   "id": "33371637",
   "metadata": {},
   "outputs": [
    {
     "data": {
      "text/plain": [
       "LogisticRegression(C=0.1, solver='newton-cg')"
      ]
     },
     "execution_count": 44,
     "metadata": {},
     "output_type": "execute_result"
    }
   ],
   "source": [
    "model = LogisticRegression(C=0.001, solver='newton-cg')\n",
    "model.fit(X_train, y_train)"
   ]
  },
  {
   "cell_type": "code",
   "execution_count": 45,
   "id": "20f57231",
   "metadata": {},
   "outputs": [
    {
     "name": "stdout",
     "output_type": "stream",
     "text": [
      "  liblinear 0.925\n",
      "  newton-cg 0.935\n",
      "  lbfgs 0.935\n",
      "  sag 0.930\n",
      "  saga 0.930\n"
     ]
    }
   ],
   "source": [
    "# Checking which solver works best\n",
    "\n",
    "solver_list = ['liblinear', 'newton-cg', 'lbfgs', 'sag', 'saga']\n",
    "params = dict(solver=solver_list)\n",
    "clf = GridSearchCV(model, params, n_jobs=2) \n",
    "clf.fit(X_train, y_train)\n",
    "scores = clf.cv_results_['mean_test_score']\n",
    "\n",
    "for score, solver in zip(scores, solver_list):\n",
    "    print(f\"  {solver} {score:.3f}\" )"
   ]
  },
  {
   "cell_type": "markdown",
   "id": "e133a2a0",
   "metadata": {},
   "source": [
    "> In the above cell, GridSearchCV returns a warning \"ConvergenceWarning: The max_iter was reached which means the coef_ did not converge\", which is cleared by setting the n_jobs more than 1"
   ]
  },
  {
   "cell_type": "markdown",
   "id": "5c272348",
   "metadata": {},
   "source": [
    "Above Cell shows that with this dataset, top 3 solver algorithms are:\n",
    "\n",
    "1. lbfgs (default)\n",
    "2. netwon-cg\n",
    "3. liblinear\n",
    "\n",
    "** sag and saga are more suitable for larger datasets."
   ]
  },
  {
   "cell_type": "markdown",
   "id": "8dfbe171",
   "metadata": {},
   "source": [
    "Lastly we use Grid Search Cross Validation to optimize our Logistic Regression Hyperparamters."
   ]
  },
  {
   "cell_type": "code",
   "execution_count": 46,
   "id": "b38c18c7",
   "metadata": {},
   "outputs": [
    {
     "data": {
      "text/plain": [
       "dict_keys(['C', 'class_weight', 'dual', 'fit_intercept', 'intercept_scaling', 'l1_ratio', 'max_iter', 'multi_class', 'n_jobs', 'penalty', 'random_state', 'solver', 'tol', 'verbose', 'warm_start'])"
      ]
     },
     "execution_count": 46,
     "metadata": {},
     "output_type": "execute_result"
    }
   ],
   "source": [
    "# Checking the parameters in the classifier\n",
    "\n",
    "model.get_params().keys()"
   ]
  },
  {
   "cell_type": "code",
   "execution_count": 47,
   "id": "87d58f41",
   "metadata": {},
   "outputs": [
    {
     "name": "stdout",
     "output_type": "stream",
     "text": [
      "Best Score: 0.9349999999999999\n",
      "Best Hyperparameters: {'C': 0.001, 'fit_intercept': True}\n"
     ]
    }
   ],
   "source": [
    "# Defining list of possible values for hyperparameters\n",
    "\n",
    "c_list = [.001, .01, .1, 1, 10, 100, 1000]\n",
    "boolean = [True, False]\n",

    "params = {\"C\": c_list,\n",
    "          \"fit_intercept\": boolean}\n",
    "\n",
    "clf = GridSearchCV(model, params)  # Cross-Validating\n",
    "clf.fit(X_train, y_train)\n",
    "\n",
    "print('Best Score: %s' % clf.best_score_)\n",
    "print('Best Hyperparameters: %s' % clf.best_params_)"
   ]
  },
  {
   "cell_type": "markdown",
   "id": "5075a280",
   "metadata": {},
   "source": [
    "# <a class=\"anchor\" id=\"Results-Evaluation\">Section V : Results Evaluation</a>"
   ]
  },
  {
   "cell_type": "markdown",
   "id": "024797eb",
   "metadata": {},
   "source": [
    "### Question 1: Can patient healthcare records predict the likelihood of mortality in an emergency room visit?\n",
    "\n",
    "In this section we'll go through our results, and in the next section we'll answer this question"
   ]
  },
  {
   "cell_type": "markdown",
   "id": "be056613",
   "metadata": {},
   "source": [
    "We will be interested in computing the Area under the ROC curve (AUC), so we need to compute the predicted probability and compare to the true label. Also, before getting to the AUC, we'll be checking our results with a confusion matrix and classification report."
   ]
  },
  {
   "cell_type": "code",
   "execution_count": 48,
   "id": "322e0992",
   "metadata": {},
   "outputs": [
    {
     "data": {
      "text/plain": [
       "array([[79,  1],\n",
       "       [ 4,  3]], dtype=int64)"
      ]
     },
     "execution_count": 48,
     "metadata": {},
     "output_type": "execute_result"
    }
   ],
   "source": [
    "ypred = model.predict(X_test)\n",
    "confusion = confusion_matrix(y_test, ypred)\n",
    "confusion"
   ]
  },
  {
   "cell_type": "markdown",
   "id": "2c104f0d",
   "metadata": {},
   "source": [
    "Our confusion matrix indicates that our trained model predicted:\n",
    "\n",
    "* 82 Correct\n",
    "* 5 Incorrect"
   ]
  },
  {
   "cell_type": "code",
   "execution_count": 49,
   "id": "d255787e",
   "metadata": {},
   "outputs": [
    {
     "name": "stdout",
     "output_type": "stream",
     "text": [
      "              precision    recall  f1-score   support\n",
      "\n",
      "           0       0.95      0.99      0.97        80\n",
      "           1       0.75      0.43      0.55         7\n",
      "\n",
      "    accuracy                           0.94        87\n",
      "   macro avg       0.85      0.71      0.76        87\n",
      "weighted avg       0.94      0.94      0.94        87\n",
      "\n"
     ]
    }
   ],
   "source": [
    "print(classification_report(y_test, ypred, target_names=['0', '1']))"
   ]
  },
  {
   "cell_type": "markdown",
   "id": "58767855",
   "metadata": {},
   "source": [
    "* Out of all the patients that the model predicted that would die, 75% actually did.\n",
    "* Out of all the patients that actually died, the model only predicted this outcome correctly for 43% of those patients."
   ]
  },
  {
   "cell_type": "code",
   "execution_count": 50,
   "id": "6d646a95",
   "metadata": {},
   "outputs": [
    {
     "data": {
      "text/plain": [
       "13"
      ]
     },
     "execution_count": 50,
     "metadata": {},
     "output_type": "execute_result"
    }
   ],
   "source": [
    "y_train[y_train == 1].count() # Number of deaths in train data"
   ]
  },
  {
   "cell_type": "code",
   "execution_count": 51,
   "id": "53a4a30d",
   "metadata": {
    "scrolled": true
   },
   "outputs": [
    {
     "data": {
      "text/plain": [
       "7"
      ]
     },
     "execution_count": 51,
     "metadata": {},
     "output_type": "execute_result"
    }
   ],
   "source": [
    "y_test[y_test == 1].count() # Number of deaths in test data"
   ]
  },
  {
   "cell_type": "markdown",
   "id": "ae24d490",
   "metadata": {},
   "source": [
    "We would want to build a model with a higher AUC, as more are under the curve our model is covering, the better our model can predict."
   ]
  },
  {
   "cell_type": "code",
   "execution_count": 52,
   "id": "f4e19b05",
   "metadata": {},
   "outputs": [
    {
     "data": {
      "image/png": "[encoded data removed]",
      "text/plain": [
       "<Figure size 432x288 with 1 Axes>"
      ]
     },
     "metadata": {
      "needs_background": "light"
     },
     "output_type": "display_data"
    }
   ],
   "source": [
    "# calculate the fpr and tpr for all thresholds of the classification\n",
    "probs = model.predict_proba(X_test)[:,1]\n",
    "fpr, tpr, threshold = metrics.roc_curve(y_test, probs)\n",
    "roc_auc = metrics.auc(fpr, tpr)\n",
    "\n",
    "plt.title('Receiver Operating Characteristic')\n",
    "plt.plot(fpr, tpr, 'b', label = 'AUC = %0.2f' % roc_auc)\n",
    "plt.legend(loc = 'lower right')\n",
    "plt.plot([0, 1], [0, 1.1],'r--')\n",
    "plt.xlim([0, 1])\n",
    "plt.ylim([0, 1.1])\n",
    "plt.ylabel('True Positive Rate')\n",
    "plt.xlabel('False Positive Rate')\n",
    "plt.show()"
   ]
  },
  {
   "cell_type": "markdown",
   "id": "3af3dcf9",
   "metadata": {},
   "source": [
    "Our trained model have 87% AUC, which shows it's working fairly okay, or is it?"
   ]
  },
  {
   "cell_type": "code",
   "execution_count": 57,
   "id": "e6b210b1",
   "metadata": {},
   "outputs": [
    {
     "data": {
      "text/plain": [
       "35"
      ]
     },
     "execution_count": 57,
     "metadata": {},
     "output_type": "execute_result"
    }
   ],
   "source": [
    "dic = dict()\n",
    "for i,j in zip(X.columns, model.coef_[0]):\n",
    "    if not (j == 0):\n",
    "        dic[i] = j\n",
    "        \n",
    "        \n",
    "df = pd.DataFrame(dic, index=[0])\n",
    "df = df.T.sort_values(by=0)\n",
    "\n",
    "len(df.index.tolist())"
   ]
  },
  {
   "cell_type": "markdown",
   "id": "08d37968",
   "metadata": {},
   "source": [
    "We used a total 35 features to predict patients mortality likelihood based upon.\n",
    "\n",
    "In the last step we'll examine how does each feature is contributing to a person's likelihood of dying? We can examine the LR coefficients for that."
   ]
  },
  {
   "cell_type": "code",
   "execution_count": 58,
   "id": "4d403d81",
   "metadata": {},
   "outputs": [
    {
     "data": {
      "image/png": "[encoded data removed]",
      "text/plain": [
       "<Figure size 792x504 with 1 Axes>"
      ]
     },
     "metadata": {
      "needs_background": "light"
     },
     "output_type": "display_data"
    }
   ],
   "source": [
    "fig, ax = plt.subplots(figsize=(11,7))\n",
    "df.plot.bar(ax=ax)\n",
    "ax.legend().remove()\n",
    "ax.axhline(y = 0, c='k', lw=0.5)\n",
    "ax.axhline(y = 0.1, c='r', ls=':', lw=1.5)\n",
    "ax.axhline(y = 0.2, c='r', ls=':', lw=1.5)\n",
    "ax.axhline(y = -0.1, c='r', ls=':', lw=1.5)\n",
    "ax.axhline(y = -0.2, c='r', ls=':', lw=1.5)\n",
    "plt.show()"
   ]
  },
  {
   "cell_type": "markdown",
   "id": "327dc084",
   "metadata": {},
   "source": [
    "The chart above shows the most to least contributed features we selected in the mortality prediction."
   ]
  },
  {
   "cell_type": "markdown",
   "id": "296e6f2c",
   "metadata": {},
   "source": [
    "Most contributed features in death according to the above chart in our model is:\n",
    "\n",
    "1. LOS (Length Of Stay) in ICU\n",
    "2. Gender: Male\n",
    "3. Admission Type: Transfer From Hospital\n",
    "4. Admission Type: Urgent\n",
    "5. Insurance: Medicaid\n",
    "6. Ethnicity: Other\n",
    "7. Ethnicity: Unkown\n",
    "8. Marital Status: Married"
   ]
  },
  {
   "cell_type": "markdown",
   "id": "265ce79f",
   "metadata": {},
   "source": [
    "# <a class=\"anchor\" id=\"Conclusion-Discussion\">Section VI: Conclusion and Discussion</a>"
   ]
  },
  {
   "cell_type": "markdown",
   "id": "114ef22b",
   "metadata": {},
   "source": [
    "Now to answer our aforementioned question, Yes using MIMIC database we can predict mortality likelihood in hospital or different wards of hospital individually. However, data used in this notebook was a demo version of MIMIC due to unavailablity and application approval process time. The sample space was consisted of only 100 patients with 20 deaths. Because of the small sample space we couldn't limit the data to only Emergency Room visits, but with a larger dataset we can analyze different sections of a hospital."
   ]
  },
  {
   "cell_type": "markdown",
   "id": "75cedbe1",
   "metadata": {},
   "source": [
    "According to our results, due to the small number of patient records and number of deaths, it shows that our model is working poorly because of this issue. Additionaly, as mentioned above, In our dead patients only 4 of them were Females. Hence, Male gender was a high contributer to the patient's death in our limited dataset, not to the general public. Moreover, with a train size of 70%, In the last run, we have 13 deaths in our train dataset, and only 7 deaths in our test dataset. If the train size is set to higher values like .75 or .8, less than 5 deaths will be available in the test dataset and our model usually performs poorly and predicts deaths with 0 percision."
   ]
  },
  {
   "cell_type": "markdown",
   "id": "9f6a771a",
   "metadata": {},
   "source": [
    "Lastly, we can select better features like Patients Vital Signs which are available in the original dataset and are better features to predict a patients mortality rate based upon rather than ethnicity, insurance, and etc. Additionally, there are other data available as well to use but need a preprocessing first. For instance, procedures and diagnosis of a patient. However, in each table there are multiple procedures and diagnosis a patient has which is labeled with a seq_num and a seq_num = 1 indicates a higher priority in the patients diagnosis or procedure. We can first label each procedure and diagnosis with a shorter title, then we can use the diagnosis or procedure with the highest priority in our model. However, a domain expert would be needed to conduct the preprocessing without eliminating important data. Next the model needs to be trained with these new features then be evaluated to see how each feature does actually contribute to the outcome.\n",
    "\n",
    "* it's worth mentioning that in some conducted researches on MIMIC demo database, because the anchor_age is de-identified, any patients that are older than 89 their anchor_age is set to 91, regardless of how old they actually were. Consequently, this age range is removed from the data completely, but in this case due to the few number of records available no elimination has been done."
   ]
  }
 ],
 "metadata": {
  "kernelspec": {
   "display_name": "Python 3 (ipykernel)",
   "language": "python",
   "name": "python3"
  },
  "language_info": {
   "codemirror_mode": {
    "name": "ipython",
    "version": 3
   },
   "file_extension": ".py",
   "mimetype": "text/x-python",
   "name": "python",
   "nbconvert_exporter": "python",
   "pygments_lexer": "ipython3",
   "version": "3.9.12"
  }
 },
 "nbformat": 4,
 "nbformat_minor": 5
}
